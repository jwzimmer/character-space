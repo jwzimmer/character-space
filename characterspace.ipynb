{
  "nbformat": 4,
  "nbformat_minor": 0,
  "metadata": {
    "colab": {
      "name": "characterspace.ipynb",
      "provenance": [],
      "authorship_tag": "ABX9TyOpITkcESymmnhs6JTfkAkK",
      "include_colab_link": true
    },
    "kernelspec": {
      "name": "python3",
      "display_name": "Python 3"
    },
    "language_info": {
      "name": "python"
    }
  },
  "cells": [
    {
      "cell_type": "markdown",
      "metadata": {
        "id": "view-in-github",
        "colab_type": "text"
      },
      "source": [
        "<a href=\"https://colab.research.google.com/github/jwzimmer/character-space/blob/main/characterspace.ipynb\" target=\"_parent\"><img src=\"https://colab.research.google.com/assets/colab-badge.svg\" alt=\"Open In Colab\"/></a>"
      ]
    },
    {
      "cell_type": "markdown",
      "source": [
        "#Step 1: SVD\n",
        "Import the packages used."
      ],
      "metadata": {
        "id": "9xfQmw8e3evf"
      }
    },
    {
      "cell_type": "code",
      "source": [
        "import pandas as pd\n",
        "import numpy as np\n",
        "import scipy as sp\n",
        "from scipy import linalg\n",
        "import matplotlib.pyplot as plt\n",
        "import seaborn as sns"
      ],
      "metadata": {
        "id": "QrrK8f-m3dQa"
      },
      "execution_count": null,
      "outputs": []
    },
    {
      "cell_type": "markdown",
      "source": [
        "Load the data, a matrix of 800 fictional characters and 236 bipolar adjective pairs, from Julia's GitHub repo. The original data is from OpenPsychometrics.org: https://openpsychometrics.org/_rawdata/, in the file \"characters-aggregated.zip\". This matrix excluded the emoji differentials from the original data, and includes the original character label (\"unnamed.1\"), the work the character is from (\"work\"), and the name of the character (\"name\")."
      ],
      "metadata": {
        "id": "IaU5C9WW263r"
      }
    },
    {
      "cell_type": "code",
      "execution_count": null,
      "metadata": {
        "id": "XK77wGOc216A"
      },
      "outputs": [],
      "source": [
        "path_to_df_of_data = \"https://raw.githubusercontent.com/jwzimmer/tv-tropening/main/July2021_df_traits.json\"\n",
        "traits_df = pd.read_json(path_to_df_of_data)"
      ]
    },
    {
      "cell_type": "markdown",
      "source": [
        "Before running SVD, we have to drop the three columns that aren't trait differentials/ bipolar adjective pairs."
      ],
      "metadata": {
        "id": "vD08ElUUCF-F"
      }
    },
    {
      "cell_type": "code",
      "source": [
        "drop_columns=['unnamed.1','name','work']\n",
        "traits_only_df = traits_df\n",
        "for column in drop_columns:\n",
        "  traits_only_df = traits_only_df.drop(column, axis=1)"
      ],
      "metadata": {
        "id": "HADgZSB_BRlv"
      },
      "execution_count": null,
      "outputs": []
    },
    {
      "cell_type": "markdown",
      "source": [
        "We then subtract the theoretical mean of the scores. We used 50 because the characters were assigned scores for each trait differential on a scale from 0 - 100."
      ],
      "metadata": {
        "id": "89nZNJe-Cc6M"
      }
    },
    {
      "cell_type": "code",
      "source": [
        "traits_df_normed = traits_only_df - 50"
      ],
      "metadata": {
        "id": "aRXsWBEhCrTo"
      },
      "execution_count": null,
      "outputs": []
    },
    {
      "cell_type": "markdown",
      "source": [
        "## The actual SVD part\n",
        "\n",
        "Suppose we have a matrix $X$ of size $M{\\times}N$. SVD decomposes this matrix into the product of three factors where $$X = U {\\Sigma} {V^{T}}{\\text{.}}$$ $U$ and $V$ are orthogonal matrices. The columns of $U$ contain the left singular vectors of $X$, the rows of ${V}^{T}$ contain the right singular values of $X$, and along the diagonal of $\\Sigma$ are the singular values of $X$ ordered by descending importance.\n",
        "\n",
        "What's important is that we can use $U$, ${\\Sigma}$, and $V^{T}$ to reconstruct $X$ as the sum of rank 1 matrices such that $$X={\\sigma_1}{u_1}{v_1}^{T}+{\\sigma_2}{u_2}{v_2}^{T}+{\\cdots}+{\\sigma_p}{u_p}{v_p}^{T}$$ where ${\\sigma_1}{u_1}{v_1}^{T}$ explains the most variance, followed by ${\\sigma_2}{u_2}{v_2}^{T}$, and so on up to $p \\leq {N}$. Because the trailing terms explain the least variance, they can be truncated without a significant loss of information. The result is a lower-rank matrix, say a rank 3 matrix $X'$, that well approximates $X$: $$X' = {\\sigma_1}{u_1}{v_1}^{T}+{\\sigma_2}{u_2}{v_2}^{T}+{\\sigma_3}{u_3}{v_3}^{T}$$. Note that the parts of the matrix decomposition produced by SVD are almost unique, except that their signs (as in, positive or negative) could flip without impacting the reconstruction of the original matrix."
      ],
      "metadata": {
        "id": "1FTediI_PYed"
      }
    },
    {
      "cell_type": "markdown",
      "source": [
        "The function for running SVD on the matrix, which returns df1, the dataframe that was passed into it, U, D, V, and Sig, which are all SVD outputs, X, which is the actual matrix SVD was run on, and remakeX, which is the reconstruction of X using the SVD outputs."
      ],
      "metadata": {
        "id": "GqJdGUpc-PfQ"
      }
    },
    {
      "cell_type": "code",
      "source": [
        "def runSVD(df1):\n",
        "    \"\"\" df1 is the dataframe you want to run SVD on;\n",
        "    this function is mostly copy-pasted from https://stackoverflow.com/questions/55777664/getting-singular-values-of-numpy-data-columns-in-order/55785021\n",
        "    \"\"\"\n",
        "    X = df1.to_numpy()\n",
        "    #decompose\n",
        "    U, D, V = np.linalg.svd(X)\n",
        "    # get dim of X\n",
        "    M,N = X.shape\n",
        "    # Construct sigma matrix in SVD (it simply adds null row vectors to match the dim of X)\n",
        "    Sig = sp.linalg.diagsvd(D,M,N)\n",
        "    # Now you can get X back:\n",
        "    remakeX = np.dot(U, np.dot(Sig, V))\n",
        "    assert np.sum(remakeX - X) < 0.00001\n",
        "    return df1, U, D, V, Sig, X, remakeX"
      ],
      "metadata": {
        "id": "H-bHNu3o9PAI"
      },
      "execution_count": null,
      "outputs": []
    },
    {
      "cell_type": "code",
      "source": [
        "df_svd, U, D, V, Sig, X, remakeX = runSVD(traits_df_normed)"
      ],
      "metadata": {
        "id": "cXAxSE4AAnRU"
      },
      "execution_count": null,
      "outputs": []
    },
    {
      "cell_type": "markdown",
      "source": [
        "The list of all the trait differentials in the order they're in for the matrix we ran SVD on:"
      ],
      "metadata": {
        "id": "uMPjRHr_Eqqm"
      }
    },
    {
      "cell_type": "code",
      "source": [
        "trait_columns = df_svd.columns"
      ],
      "metadata": {
        "id": "e-YdbVuYEiSG"
      },
      "execution_count": null,
      "outputs": []
    },
    {
      "cell_type": "markdown",
      "source": [
        "#Step 2: Analysis\n",
        "Now that we have the output from SVD, we can analyze it."
      ],
      "metadata": {
        "id": "okjv9d7pFPQn"
      }
    },
    {
      "cell_type": "markdown",
      "source": [
        "##Comparison with Power, Danger, Structure framework\n",
        "\n",
        "Our goal is to find any words from our trait differentials that have a score in the PDS dataset, to relabel the trait with the most appropriate P,D, or S, and then to see what the results of SVD look like. If our first three dimensions (Heroes and Zeroes, Saints and Sinners, and Bohemians and Bureacrats) are related to PDS, that pattern will hopefully be obvious.\n",
        "\n",
        "Load the words and their scores via Professor Peter Dodds:"
      ],
      "metadata": {
        "id": "Iui6Tsf0FbcP"
      }
    },
    {
      "cell_type": "code",
      "source": [
        "word_df = pd.read_csv(\"http://pdodds.w3.uvm.edu/permanent-share/ousiometry_data.txt\", sep=\"\\t\")"
      ],
      "metadata": {
        "id": "LL7twDVLNj2z"
      },
      "execution_count": null,
      "outputs": []
    },
    {
      "cell_type": "markdown",
      "source": [
        "We will need the standard deviations for P, D, and S later. The SD for P, D is in the relevant paper (https://arxiv.org/abs/2110.06847), so we just need to find the SD for structure: 0.09744511833639315"
      ],
      "metadata": {
        "id": "bDkiQAJq0H9I"
      }
    },
    {
      "cell_type": "markdown",
      "source": [
        "Get the list of words from our trait differentials:"
      ],
      "metadata": {
        "id": "IXX7sY5IQnkT"
      }
    },
    {
      "cell_type": "code",
      "source": [
        "trait_words = []\n",
        "for z in trait_columns:\n",
        "    trait_words += z.split(\"<->\")"
      ],
      "metadata": {
        "id": "uOwdpPL7NsDA"
      },
      "execution_count": null,
      "outputs": []
    },
    {
      "cell_type": "markdown",
      "source": [
        "354 of our 472 trait words are in the PDS dataset. We need to find the P, D, and S score for each of those words:"
      ],
      "metadata": {
        "id": "etc4nlCsRF3X"
      }
    },
    {
      "cell_type": "code",
      "source": [
        "shared_words = list(set(list(word_df[\"word\"])).intersection(set(trait_words))) #length is 354\n",
        "\n",
        "backwards_word_dict = word_df[\"word\"].to_dict()\n",
        "word_dict = {y:x for x,y in backwards_word_dict.items()}"
      ],
      "metadata": {
        "id": "xR948IvsREPj"
      },
      "execution_count": null,
      "outputs": []
    },
    {
      "cell_type": "code",
      "source": [
        "sd_p = 0.218\n",
        "sd_d = 0.218\n",
        "sd_s = 0.097\n",
        "\n",
        "power_score_dict = {x: word_df[\"power\"][word_dict[x]]/sd_p for x in shared_words}\n",
        "danger_score_dict = {x: word_df[\"danger\"][word_dict[x]]/sd_d for x in shared_words}\n",
        "structure_score_dict = {x: word_df[\"structure\"][word_dict[x]]/sd_s for x in shared_words}"
      ],
      "metadata": {
        "id": "4QJPZNBwOWty"
      },
      "execution_count": null,
      "outputs": []
    },
    {
      "cell_type": "markdown",
      "source": [
        "### Display style 1 & 2"
      ],
      "metadata": {
        "id": "VWvH0UWI8igF"
      }
    },
    {
      "cell_type": "markdown",
      "source": [
        "We need to either choose a threshold for when to consider a word P, D, or S, or we could pick whichever the word is most like and label it as that. We're trying the latter first. We also need to reflect whether it has a negative or positive score for that word... a large negative score for e.g. power would mean the word is strongly not powerful."
      ],
      "metadata": {
        "id": "S2V8k1iqUhTk"
      }
    },
    {
      "cell_type": "markdown",
      "source": [
        "Want to use different thresholds based on SD; want to use difference between endpoint words when both are in dataset; want to include scores in charts."
      ],
      "metadata": {
        "id": "LDCuiqkFVVo5"
      }
    },
    {
      "cell_type": "code",
      "source": [
        "word_categories = {}\n",
        "\n",
        "for w in shared_words:\n",
        "    p,d,s = power_score_dict[w], danger_score_dict[w], structure_score_dict[w]\n",
        "    abs_dict = {abs(p):\"power\", abs(d):\"danger\", abs(s):\"structure\"}\n",
        "    backwards_abs_dict = {y:x for x,y in abs_dict.items()}\n",
        "    small_score_dict = {\"power\":p,\"danger\":d,\"structure\":s}\n",
        "    max_abs_score = max(abs(p),abs(d),abs(s))\n",
        "    # if two categories have the same score and that is the highest score, the word should not be labeled... \n",
        "    # for now we're going the easy route and just throwing out words with the same scores for any two categories\n",
        "    same_score = 0\n",
        "    if len(list(set([p,d,s]))) != 3:\n",
        "        same_score = 1\n",
        "    if same_score:\n",
        "        pass\n",
        "    else:\n",
        "        # relabeling based on thresholds\n",
        "        # from arxiv ousiometrics paper, SD = 0.218 for P and D\n",
        "        # SD = 0.097 for S\n",
        "        standard_dev_threshold_dict = {\"power\": 0.218, \"danger\": 0.218, \"structure\": 0.097}\n",
        "        largest_score_category = abs_dict[max_abs_score]\n",
        "        if max_abs_score > standard_dev_threshold_dict[largest_score_category]:\n",
        "            if backwards_abs_dict[largest_score_category] == small_score_dict[largest_score_category]:\n",
        "                word_category = \"+ \" + largest_score_category\n",
        "            else:\n",
        "                word_category = \"- \" + largest_score_category\n",
        "            word_categories[w] = word_category\n",
        "        else: pass"
      ],
      "metadata": {
        "id": "oZh4PAPHS2Uj"
      },
      "execution_count": null,
      "outputs": []
    },
    {
      "cell_type": "markdown",
      "source": [
        "Now that we have categories of P, D, or S for the trait words, we need to relabel the trait differentials with those categories."
      ],
      "metadata": {
        "id": "WP5aBLIyjKid"
      }
    },
    {
      "cell_type": "code",
      "source": [
        "trait_columns_relabeled = []\n",
        "\n",
        "for trait_pair in trait_columns:\n",
        "  left_anchor, right_anchor = trait_pair.split(\"<->\")\n",
        "  if left_anchor in word_categories:\n",
        "    left_anchor = word_categories[left_anchor]\n",
        "  if right_anchor in word_categories:\n",
        "    right_anchor = word_categories[right_anchor]\n",
        "  trait_columns_relabeled.append(left_anchor+\" vs. \"+right_anchor)"
      ],
      "metadata": {
        "id": "lB5TFMNyjlna"
      },
      "execution_count": null,
      "outputs": []
    },
    {
      "cell_type": "markdown",
      "source": [
        "### Calculating the deltas\n",
        "\n",
        "Alternately, if we want to look at the difference between the PDS scores across the anchor words:"
      ],
      "metadata": {
        "id": "_isA3Z0rIXIt"
      }
    },
    {
      "cell_type": "code",
      "source": [
        "trait_columns_changes = {}\n",
        "\n",
        "sd_p = 0.218\n",
        "sd_d = 0.218\n",
        "sd_s = 0.097\n",
        "\n",
        "for trait_pair in trait_columns:\n",
        "  left_anchor, right_anchor = trait_pair.split(\"<->\")\n",
        "  if left_anchor in shared_words:\n",
        "    left_p = power_score_dict[left_anchor]\n",
        "    left_d = danger_score_dict[left_anchor]\n",
        "    left_s = structure_score_dict[left_anchor]\n",
        "  if right_anchor in shared_words:\n",
        "    right_p = power_score_dict[right_anchor]\n",
        "    right_d = danger_score_dict[right_anchor]\n",
        "    right_s = structure_score_dict[right_anchor]\n",
        "  if left_anchor in shared_words and right_anchor in shared_words:\n",
        "    change_p = right_p - left_p\n",
        "    change_d = right_d - left_d\n",
        "    change_s = right_s - left_s\n",
        "    change_abs_dict = {abs(change_p):\"power\", abs(change_d):\"danger\", abs(change_s):\"structure\"}\n",
        "    backwards_change_abs_dict = {y:x for x,y in change_abs_dict.items()}\n",
        "    small_change_dict = {\"power\":change_p,\"danger\":change_d,\"structure\":change_s}\n",
        "    max_abs_change = max(abs(change_p),abs(change_d),abs(change_s)) \n",
        "    # for now we're going the easy route and just throwing out words with the same change differences for any two categories\n",
        "    same_score = 0\n",
        "    if len(list(set([change_p,change_d,change_s]))) != 3:\n",
        "        same_score = 1\n",
        "    if same_score:\n",
        "          pass\n",
        "    else:\n",
        "      largest_change_category = change_abs_dict[max_abs_change]\n",
        "      if backwards_change_abs_dict[largest_change_category] == small_change_dict[largest_change_category]:\n",
        "        change_category = \"+ \" + largest_change_category\n",
        "      else:\n",
        "        change_category = \"- \" + largest_change_category\n",
        "      trait_columns_changes[trait_pair] = change_category\n",
        "\n"
      ],
      "metadata": {
        "id": "Qj-S2JmQGdJq"
      },
      "execution_count": null,
      "outputs": []
    },
    {
      "cell_type": "markdown",
      "source": [
        "It is sloppy to repeat code, but for now I want to see if I can get it working... should give us a dict with trait differentials to normed deltas"
      ],
      "metadata": {
        "id": "UVUXmSOkDloZ"
      }
    },
    {
      "cell_type": "code",
      "source": [
        "normed_deltas = {}\n",
        "\n",
        "triple_deltas = {}\n",
        "\n",
        "for trait_pair in trait_columns:\n",
        "  left_anchor, right_anchor = trait_pair.split(\"<->\")\n",
        "  if left_anchor in shared_words:\n",
        "    left_p = power_score_dict[left_anchor]\n",
        "    left_d = danger_score_dict[left_anchor]\n",
        "    left_s = structure_score_dict[left_anchor]\n",
        "  if right_anchor in shared_words:\n",
        "    right_p = power_score_dict[right_anchor]\n",
        "    right_d = danger_score_dict[right_anchor]\n",
        "    right_s = structure_score_dict[right_anchor]\n",
        "  if left_anchor in shared_words and right_anchor in shared_words:\n",
        "    change_p = (right_p - left_p)\n",
        "    change_d = (right_d - left_d)\n",
        "    change_s = (right_s - left_s)\n",
        "    change_abs_dict = {abs(change_p):\"power\", abs(change_d):\"danger\", abs(change_s):\"structure\"}\n",
        "    backwards_change_abs_dict = {y:x for x,y in change_abs_dict.items()}\n",
        "    small_change_dict = {\"power\":change_p,\"danger\":change_d,\"structure\":change_s}\n",
        "    max_abs_change = max(abs(change_p),abs(change_d),abs(change_s)) \n",
        "    # for now we're going the easy route and just throwing out words with the same change differences for any two categories\n",
        "    same_score = 0\n",
        "    if len(list(set([change_p,change_d,change_s]))) != 3:\n",
        "        same_score = 1\n",
        "    if same_score:\n",
        "          pass\n",
        "    else:\n",
        "      triple_deltas[trait_pair] = \"({:0.2f}\".format(small_change_dict[\"power\"])+\", {:0.2f}\".format(small_change_dict[\"danger\"])+\", {:0.2f})\".format(small_change_dict[\"structure\"])\n",
        "      largest_change_category = change_abs_dict[max_abs_change]\n",
        "      if backwards_change_abs_dict[largest_change_category] == small_change_dict[largest_change_category]:\n",
        "        change_category = \"+ {:0.2f}\".format(max_abs_change)\n",
        "      else:\n",
        "        change_category = \"- {:0.2f}\".format(max_abs_change)\n",
        "      normed_deltas[trait_pair] = change_category"
      ],
      "metadata": {
        "id": "GFa8SAA2DwTF"
      },
      "execution_count": null,
      "outputs": []
    },
    {
      "cell_type": "markdown",
      "source": [
        "We need a list of all the trait column names in order, including the relabeled and unrelabeled ones (that didn't have a score in PDS):"
      ],
      "metadata": {
        "id": "tS-LTJwhNW2r"
      }
    },
    {
      "cell_type": "code",
      "source": [
        "trait_columns_changes_relabeled = []\n",
        "for trait_pair in trait_columns:\n",
        "  if trait_pair in trait_columns_changes:\n",
        "    trait_columns_changes_relabeled.append(trait_columns_changes[trait_pair])\n",
        "  else:\n",
        "    #l, r = trait_pair.split(\"<->\")\n",
        "    #trait_columns_changes_relabeled.append(l + \" vs. \" + r)\n",
        "    trait_columns_changes_relabeled.append(\"--\")"
      ],
      "metadata": {
        "id": "Gkdb14YiMY_E"
      },
      "execution_count": null,
      "outputs": []
    },
    {
      "cell_type": "markdown",
      "source": [
        "A list of all the trait column names in order, but just the normed deltas"
      ],
      "metadata": {
        "id": "QwKbokMnEnnS"
      }
    },
    {
      "cell_type": "code",
      "source": [
        "normed_delta_columns_relabeled = []\n",
        "for trait_pair in trait_columns:\n",
        "  if trait_pair in normed_deltas:\n",
        "    normed_delta_columns_relabeled.append(normed_deltas[trait_pair])\n",
        "  else:\n",
        "    normed_delta_columns_relabeled.append(\"--\")"
      ],
      "metadata": {
        "id": "XOw6EFcJEmfY"
      },
      "execution_count": null,
      "outputs": []
    },
    {
      "cell_type": "markdown",
      "source": [
        "A list of all the trait column names in order but using the triplet normed deltas (based on the normed PDS scores)"
      ],
      "metadata": {
        "id": "fkc0NIULJqCz"
      }
    },
    {
      "cell_type": "code",
      "source": [
        "triple_delta_columns_relabeled = []\n",
        "for trait_pair in trait_columns:\n",
        "  if trait_pair in triple_deltas:\n",
        "    triple_delta_columns_relabeled.append(triple_deltas[trait_pair])\n",
        "  else:\n",
        "    triple_delta_columns_relabeled.append(\"--\")"
      ],
      "metadata": {
        "id": "8xRvLkTmJ1aG"
      },
      "execution_count": null,
      "outputs": []
    },
    {
      "cell_type": "markdown",
      "source": [
        "A function to create a bar chart to show the magnitudes of the most important traits (or characters) in each dimension:"
      ],
      "metadata": {
        "id": "6b1n1qhAm6js"
      }
    },
    {
      "cell_type": "code",
      "source": [
        "def vector_barchart(vector_names,vector,n,style=\"by_mag\",ascending=False):\n",
        "    \"\"\" vector_names should be the labels for the values in the vector\n",
        "        vector should be the vector (ndarray)\n",
        "        n should be the number of values you want displayed in the chart\n",
        "        style should be the format of the chart\n",
        "        ascending=False will be most relevant traits by magnitude,\n",
        "        ascending=True will be least relevant traits by magnitude\"\"\"\n",
        "    n=min(n,len(vector_names))\n",
        "    vectordf = pd.DataFrame()\n",
        "    vectordf[\"Trait\"] = vector_names\n",
        "    vectordf[\"Values\"] = vector\n",
        "    \n",
        "    if style==\"by_mag\":\n",
        "        vectordf[\"Magnitude\"] = vectordf.apply(lambda row: abs(row[\"Values\"]), axis = 1)\n",
        "        sorteddf = vectordf.sort_values(by=\"Magnitude\",ascending=ascending)\n",
        "        #plotguy = sorteddf.iloc[-2*n:].iloc[::-1]\n",
        "        plotguy = sorteddf.iloc[0:2*n]\n",
        "    #sns.set(font_scale = 2)\n",
        "    sns.barplot(plotguy[\"Values\"],plotguy[\"Trait\"],ci=None)\n",
        "    #sns.set(font_scale = 1)\n",
        "    return vectordf, plotguy"
      ],
      "metadata": {
        "id": "FtSBDhc0W90q"
      },
      "execution_count": null,
      "outputs": []
    },
    {
      "cell_type": "markdown",
      "source": [
        "To see the dimensions:"
      ],
      "metadata": {
        "id": "ytrbtNxBnE6r"
      }
    },
    {
      "cell_type": "code",
      "source": [
        "vectordf, plotguy = vector_barchart(trait_columns_relabeled,V[2,:],10)"
      ],
      "metadata": {
        "colab": {
          "base_uri": "https://localhost:8080/",
          "height": 333
        },
        "id": "zk--wvCQljNe",
        "outputId": "c51b4e1e-0bfe-4118-96a2-9ab72e315e64"
      },
      "execution_count": null,
      "outputs": [
        {
          "output_type": "stream",
          "name": "stderr",
          "text": [
            "/usr/local/lib/python3.7/dist-packages/seaborn/_decorators.py:43: FutureWarning: Pass the following variables as keyword args: x, y. From version 0.12, the only valid positional argument will be `data`, and passing other arguments without an explicit keyword will result in an error or misinterpretation.\n",
            "  FutureWarning\n"
          ]
        },
        {
          "output_type": "display_data",
          "data": {
            "image/png": "[encoded data removed]",
            "text/plain": [
              "<Figure size 432x288 with 1 Axes>"
            ]
          },
          "metadata": {
            "needs_background": "light"
          }
        }
      ]
    },
    {
      "cell_type": "markdown",
      "source": [
        "The magnitudes associated with the traits within each row of $V^T$ are old information to us at this point... so looking just at the labels of the traits, using a threshold of 0.4 (for the PDS scores), for dimension 1: 10P, 2D, 0S, for dimension 2: 4P, 9D, 0S, for dimension 3: 4P, 4D, 0S."
      ],
      "metadata": {
        "id": "fM4vvByWnV-C"
      }
    },
    {
      "cell_type": "markdown",
      "source": [
        "A function to show just the labels (no magnitudes) and the P,D,S scores:"
      ],
      "metadata": {
        "id": "uMeLfmyr1wWy"
      }
    },
    {
      "cell_type": "code",
      "source": [
        "def vector_ordered_by_magnitude(vector_names,vector):\n",
        "    \"\"\" vector_names should be the labels for the values in the vector\n",
        "        vector should be the vector (ndarray)\"\"\"\n",
        "    #n=min(n,len(vector_names))\n",
        "    vectordf = pd.DataFrame()\n",
        "    vectordf[\"Trait\"] = vector_names\n",
        "    vectordf[\"Values\"] = vector\n",
        "    vectordf[\"Magnitude\"] = vectordf.apply(lambda row: abs(row[\"Values\"]), axis = 1)\n",
        "    sorteddf = vectordf.sort_values(by=\"Magnitude\",ascending=False)\n",
        "    # if we want to return a truncated list instead of all traits, return plotguy\n",
        "    #plotguy = sorteddf.iloc[0:2*n]\n",
        "    return sorteddf[\"Trait\"]"
      ],
      "metadata": {
        "id": "uXKpkZXvnVDC"
      },
      "execution_count": null,
      "outputs": []
    },
    {
      "cell_type": "code",
      "source": [
        "ordered_relabeled_traits_in_dimensions_df = pd.DataFrame()\n",
        "ordered_relabeled_traits_in_dimensions_df[\"power/ 1st dim\"] = list(vector_ordered_by_magnitude(trait_columns_relabeled,V[0,:]))\n",
        "ordered_relabeled_traits_in_dimensions_df[\"danger/ 2nd dim\"] = list(vector_ordered_by_magnitude(trait_columns_relabeled,V[1,:]))\n",
        "ordered_relabeled_traits_in_dimensions_df[\"structure/ 3rd dim\"] = list(vector_ordered_by_magnitude(trait_columns_relabeled,V[2,:]))\n"
      ],
      "metadata": {
        "id": "FdKZPay837Lm"
      },
      "execution_count": null,
      "outputs": []
    },
    {
      "cell_type": "markdown",
      "source": [
        "Printing this object and pasting it in something that reads markdown (like these text cells) will display the chart of the relabeled traits for the first 3 dimensions (more can be added following the format above):"
      ],
      "metadata": {
        "id": "mbmtWqZn8FsO"
      }
    },
    {
      "cell_type": "code",
      "source": [
        "markdown_object_to_print = ordered_relabeled_traits_in_dimensions_df.to_markdown()"
      ],
      "metadata": {
        "id": "i1r6_qoN5RNf"
      },
      "execution_count": null,
      "outputs": []
    },
    {
      "cell_type": "markdown",
      "source": [
        "### Display style 3\n",
        "\n",
        "We want to show the original trait word, but show the P,D,S scores next to them."
      ],
      "metadata": {
        "id": "PHpFCt4K8r1F"
      }
    },
    {
      "cell_type": "code",
      "source": [
        "trait_columns_with_scores = []\n",
        "\n",
        "for trait_pair in trait_columns:\n",
        "  left_anchor, right_anchor = trait_pair.split(\"<->\")\n",
        "  #left\n",
        "  if left_anchor in power_score_dict:\n",
        "    left_anchor_p = power_score_dict[left_anchor]\n",
        "  else:\n",
        "    left_anchor_p = \"\"\n",
        "  if left_anchor in danger_score_dict:\n",
        "    left_anchor_d = danger_score_dict[left_anchor]\n",
        "  else:\n",
        "    left_anchor_d = \"\"\n",
        "  if left_anchor in structure_score_dict:\n",
        "    left_anchor_s = structure_score_dict[left_anchor]\n",
        "  else:\n",
        "    left_anchor_s = \"\"\n",
        "  #right\n",
        "  if right_anchor in power_score_dict:\n",
        "    right_anchor_p = power_score_dict[right_anchor]\n",
        "  else:\n",
        "    right_anchor_p = \"\"\n",
        "  if right_anchor in danger_score_dict:\n",
        "    right_anchor_d = danger_score_dict[right_anchor]\n",
        "  else:\n",
        "    right_anchor_d = \"\"\n",
        "  if right_anchor in structure_score_dict:\n",
        "    right_anchor_s = structure_score_dict[right_anchor]\n",
        "  else:\n",
        "    right_anchor_s = \"\"\n",
        "\n",
        "  if left_anchor_p == \"\":\n",
        "    new_left_anchor = left_anchor\n",
        "  else:\n",
        "    new_left_anchor = left_anchor+\" ({:0.2f}\".format(left_anchor_p)+\", {:0.2f}\".format(left_anchor_d)+\", {:0.2f})\".format(left_anchor_s)\n",
        "  if right_anchor_p == \"\":\n",
        "    new_right_anchor = right_anchor\n",
        "  else:\n",
        "    new_right_anchor = right_anchor+\" ({:0.2f}\".format(right_anchor_p)+\", {:0.2f}\".format(right_anchor_d)+\", {:0.2f})\".format(right_anchor_s)\n",
        "\n",
        "  trait_columns_with_scores.append(new_left_anchor+\" vs. \"+new_right_anchor)"
      ],
      "metadata": {
        "id": "tEajYaMH9FI1"
      },
      "execution_count": null,
      "outputs": []
    },
    {
      "cell_type": "code",
      "source": [
        "ordered_scored_traits_in_dimensions_df = pd.DataFrame()\n",
        "ordered_scored_traits_in_dimensions_df[\"power/ 1st dim\"] = list(vector_ordered_by_magnitude(trait_columns_with_scores,V[0,:]))\n",
        "ordered_scored_traits_in_dimensions_df[\"danger/ 2nd dim\"] = list(vector_ordered_by_magnitude(trait_columns_with_scores,V[1,:]))\n",
        "ordered_scored_traits_in_dimensions_df[\"structure/ 3rd dim\"] = list(vector_ordered_by_magnitude(trait_columns_with_scores,V[2,:]))"
      ],
      "metadata": {
        "id": "qut3MCAoCJfn"
      },
      "execution_count": null,
      "outputs": []
    },
    {
      "cell_type": "code",
      "source": [
        "markdown_object_to_print_2 = ordered_scored_traits_in_dimensions_df.to_markdown()"
      ],
      "metadata": {
        "id": "2m2hUv89CkMG"
      },
      "execution_count": null,
      "outputs": []
    },
    {
      "cell_type": "markdown",
      "source": [
        "### Display style 4: using the difference in scores across the traits"
      ],
      "metadata": {
        "id": "VmdcseTfNpa_"
      }
    },
    {
      "cell_type": "code",
      "source": [
        "ordered_changes_traits_in_dimensions_df = pd.DataFrame()\n",
        "ordered_changes_traits_in_dimensions_df[\"power/ 1st dim\"] = list(vector_ordered_by_magnitude(trait_columns_changes_relabeled,V[0,:]))\n",
        "ordered_changes_traits_in_dimensions_df[\"danger/ 2nd dim\"] = list(vector_ordered_by_magnitude(trait_columns_changes_relabeled,V[1,:]))\n",
        "ordered_changes_traits_in_dimensions_df[\"structure/ 3rd dim\"] = list(vector_ordered_by_magnitude(trait_columns_changes_relabeled,V[2,:]))"
      ],
      "metadata": {
        "id": "_XcZ8XgtN14E"
      },
      "execution_count": null,
      "outputs": []
    },
    {
      "cell_type": "code",
      "source": [
        "markdown_object_to_print_3 = ordered_changes_traits_in_dimensions_df.to_markdown()"
      ],
      "metadata": {
        "id": "FEJBL43AOJzQ"
      },
      "execution_count": null,
      "outputs": []
    },
    {
      "cell_type": "markdown",
      "source": [
        "## Comparison with lower dimensions\n",
        "For comparison, do the 4th, 5th and 6th dimensions have a clear pattern?"
      ],
      "metadata": {
        "id": "SpwosJ6BVNV1"
      }
    },
    {
      "cell_type": "code",
      "source": [
        "dimensions_4_5_6_df = pd.DataFrame()\n",
        "dimensions_4_5_6_df[\"4th dim\"] = list(vector_ordered_by_magnitude(trait_columns_changes_relabeled,V[3,:]))\n",
        "dimensions_4_5_6_df[\"5th dim\"] = list(vector_ordered_by_magnitude(trait_columns_changes_relabeled,V[4,:]))\n",
        "dimensions_4_5_6_df[\"6th dim\"] = list(vector_ordered_by_magnitude(trait_columns_changes_relabeled,V[5,:]))"
      ],
      "metadata": {
        "id": "InNx4B62VUej"
      },
      "execution_count": null,
      "outputs": []
    },
    {
      "cell_type": "code",
      "source": [
        "print(dimensions_4_5_6_df.to_markdown())"
      ],
      "metadata": {
        "id": "AlzEHtg_WIhp"
      },
      "execution_count": null,
      "outputs": []
    },
    {
      "cell_type": "markdown",
      "source": [
        "## A larger chart\n",
        "\n",
        "* One dimension per chart\n",
        "* Original semantic diff;\n",
        "* PDS scores for each end (— not available);\n",
        "* normalized PDS; delta in PDS (triple);\n",
        "* normalized deltas in PDS (triple);\n",
        "* changes with words power, danger, structure;\n",
        "* Words substituted into semantic diff.\n",
        "\n"
      ],
      "metadata": {
        "id": "fjfh5EhO6K0L"
      }
    },
    {
      "cell_type": "code",
      "source": [
        "def larger_chart(original_vector_names,\n",
        "                 relabeled_vector_names,\n",
        "                 triple_delta_names,\n",
        "                 normed_delta_names,\n",
        "                 vector):\n",
        "    \"\"\" vector_names should be the labels for the values in the vector\n",
        "        vector should be the vector (ndarray)\"\"\"\n",
        "    #n=min(n,len(vector_names))\n",
        "    vectordf = pd.DataFrame()\n",
        "    vectordf[\"Traits and normalized PDS scores\"] = original_vector_names\n",
        "    vectordf[\"Relabeled traits\"] = relabeled_vector_names\n",
        "    vectordf[\"Changes in PDS scores\"] = triple_delta_names\n",
        "    vectordf[\"Largest delta\"] = normed_delta_names\n",
        "    vectordf[\"Values\"] = vector\n",
        "    vectordf[\"Magnitude\"] = vectordf.apply(lambda row: abs(row[\"Values\"]), axis = 1)\n",
        "    #sorteddf = pd.DataFrame(np.sort(vectordf.values, axis=0), index=vectordf.index, columns=vectordf.columns)\n",
        "    sorteddf = vectordf.sort_values(by=\"Magnitude\",ascending=False)\n",
        "    # if we want to return a truncated list instead of all traits, return plotguy\n",
        "    #plotguy = sorteddf.iloc[0:2*n]\n",
        "    return sorteddf"
      ],
      "metadata": {
        "id": "5Co49OWX62Pa"
      },
      "execution_count": null,
      "outputs": []
    },
    {
      "cell_type": "markdown",
      "source": [
        "* trait_columns_with_scores has the original (not normalized) PDS scores\n",
        "* trait_columns_changes_relabeled has the original (not normalized) deltas"
      ],
      "metadata": {
        "id": "BHyV-1cmAsRM"
      }
    },
    {
      "cell_type": "code",
      "source": [
        "larger_chart_df = larger_chart(trait_columns_with_scores,trait_columns_changes_relabeled,triple_delta_columns_relabeled,normed_delta_columns_relabeled,V[2,:])"
      ],
      "metadata": {
        "id": "rvckM8R2_xnQ"
      },
      "execution_count": null,
      "outputs": []
    },
    {
      "cell_type": "code",
      "source": [
        "print(larger_chart_df.head(25)[[\"Traits and normalized PDS scores\",\"Relabeled traits\",\"Changes in PDS scores\"]].to_markdown(index=\"False\"))"
      ],
      "metadata": {
        "id": "7Vxg-SWl9P7t"
      },
      "execution_count": null,
      "outputs": []
    },
    {
      "cell_type": "markdown",
      "source": [
        "| Traits and normalized PDS scores                                   | Relabeled traits   | Changes in PDS scores   |\n",
        "|:-------------------------------------------------------------------|:-------------------|:------------------------|\n",
        "| diligent (1.29, -1.05, -0.97) vs. lazy (-2.11, -0.47, 1.01)        | - power            | (**-3.40**, 0.58, 1.98)     |\n",
        "| competent (2.31, -0.94, -0.73) vs. incompetent (-1.56, 1.38, 0.42) | - power            | (**-3.87**, 2.32, 1.15)     |\n",
        "| disorganized (-2.06, 1.45, 0.08) vs. self-disciplined              | --                 | --                      |\n",
        "| workaholic (0.18, 1.03, -0.29) vs. slacker                         | --                 | --                      |\n",
        "| high IQ vs. low IQ                                                 | --                 | --                      |\n",
        "| persistent (1.74, 0.11, -0.58) vs. quitter (-1.23, 0.64, -0.14)    | - power            | (**-2.98**, 0.53, 0.44)     |\n",
        "| unambitious vs. driven                                             | --                 | --                      |\n",
        "| resourceful (2.66, -0.63, 0.41) vs. helpless (-2.03, 1.01, -0.37)  | - power            | (**-4.69**, 1.63, -0.78)    |\n",
        "| studious vs. goof-off                                              | --                 | --                      |\n",
        "| coordinated vs. clumsy (-2.21, 0.92, 0.23)                         | --                 | --                      |\n",
        "| noob (-1.12, 0.01, 0.85) vs. pro (0.95, -0.61, -0.70)              | + power            | (**2.07**, -0.62, -1.56)    |\n",
        "| slugabed vs. go-getter                                             | --                 | --                      |\n",
        "| active (2.06, -0.38, 1.36) vs. slothful                            | --                 | --                      |\n",
        "| valedictorian (0.29, -0.01, -0.72) vs. drop out                    | --                 | --                      |\n",
        "| works hard vs. plays hard                                          | --                 | --                      |\n",
        "| legit (1.56, -0.98, -1.67) vs. scrub (-0.37, 0.02, -0.86)          | - power            | (**-1.93**, 1.00, 0.81)     |\n",
        "| dunce (-2.27, 0.42, 0.00) vs. genius (2.38, -0.66, 0.35)           | + power            | (**4.65**, -1.08, 0.34)     |\n",
        "| loyal (0.91, -2.03, -0.48) vs. traitorous (-0.73, 2.17, -0.10)     | + danger           | (-1.64, **4.20**, 0.38)     |\n",
        "| gossiping vs. confidential (1.13, -0.51, -1.31)                    | --                 | --                      |\n",
        "| trash (-1.83, 1.18, 1.03) vs. treasure (2.24, -1.06, 0.34)         | + power            | (**4.07**, -2.24, -0.68)    |\n",
        "| juvenile (0.47, -0.62, 0.64) vs. mature (0.28, -0.88, -0.95)       | - structure        | (-0.19, -0.26, **-1.59**)   |\n",
        "| alert (1.14, 1.11, 0.64) vs. oblivious (-1.35, 0.52, -0.93)        | - power            | (**-2.49**, -0.59, -1.58)   |\n",
        "| racist (-0.68, 2.00, -1.06) vs. egalitarian                        | --                 | --                      |\n",
        "| important (2.15, -0.61, -0.04) vs. irrelevant (-1.92, 0.56, -1.40) | - power            | (**-4.07**, 1.17, -1.35)    |\n",
        "| apprentice (-0.09, -0.67, 0.42) vs. master (1.58, -0.61, -1.58)    | - structure        | (1.67, 0.06, **-2.00**)     |"
      ],
      "metadata": {
        "id": "9b5ShUjbwGnU"
      }
    },
    {
      "cell_type": "markdown",
      "source": [
        "| Traits and normalized PDS scores                                    | Relabeled traits   | Changes in PDS scores   |\n",
        "|:--------------------------------------------------------------------|:-------------------|:------------------------|\n",
        "| competitive (1.71, 0.95, -1.93) vs. cooperative (1.20, -1.14, 0.13) | - danger           | (-0.51, **-2.08**, 2.06)    |\n",
        "| arrogant (-0.06, 2.10, -1.03) vs. humble (0.20, -2.06, 0.45)        | - danger           | (0.26, **-4.16**, 1.48)     |\n",
        "| forgiving (0.66, -1.84, 0.47) vs. vengeful (0.15, 2.25, -0.25)      | + danger           | (-0.52, **4.09**, -0.72)    |\n",
        "| quarrelsome vs. warm (0.46, -1.44, -0.38)                           | --                 | --                      |\n",
        "| ferocious (1.06, 2.47, -1.27) vs. pacifist (-0.20, -1.63, -1.55)    | - danger           | (-1.26, **-4.10**, -0.28)   |\n",
        "| mischievous (0.43, 1.16, 1.61) vs. well behaved                     | --                 | --                      |\n",
        "| moderate (-0.65, -1.26, -1.00) vs. extreme (0.98, 1.60, -0.78)      | + danger           | (1.62, **2.86**, 0.22)      |\n",
        "| shy (-2.49, -0.44, -0.42) vs. bold (-0.58, -0.69, -1.21)            | + power            | (**1.90**, -0.25, -0.79)    |\n",
        "| trusting (1.66, -1.11, 0.03) vs. suspicious (-0.49, 1.91, 0.16)     | + danger           | (-2.15, **3.02**, 0.13)     |\n",
        "| bossy (0.95, 1.94, -1.24) vs. meek (-1.70, -1.27, 0.33)             | - danger           | (-2.65, **-3.20**, 1.57)    |\n",
        "| dominant (1.87, 1.51, -1.26) vs. submissive (-1.75, -0.89, 0.63)    | - power            | (**-3.62**, -2.40, 1.90)    |\n",
        "| feisty (1.94, 0.87, 0.39) vs. gracious (1.70, -0.94, 1.84)          | - danger           | (-0.24, **-1.80**, 1.46)    |\n",
        "| bitter (-0.66, 1.32, -0.04) vs. sweet (-0.19, -0.84, 1.21)          | - danger           | (0.47, **-2.16**, 1.25)     |\n",
        "| angelic (1.09, -2.02, -0.22) vs. demonic (0.34, 2.38, -0.35)        | + danger           | (-0.74, **4.40**, -0.13)    |\n",
        "| assertive (1.20, -0.95, -1.33) vs. passive (-1.88, -1.00, -0.71)    | - power            | (**-3.09**, -0.05, 0.62)    |\n",
        "| debased (-1.67, 0.96, 1.12) vs. pure (0.79, -1.62, -0.64)           | - danger           | (2.46, **-2.57**, -1.76)    |\n",
        "| wild (1.32, 2.01, -0.33) vs. tame (0.84, 0.16, -0.13)               | - danger           | (-0.49, **-1.85**, 0.20)    |\n",
        "| wholesome (1.56, -1.48, -0.32) vs. salacious                        | --                 | --                      |\n",
        "| selfish (-0.72, 1.89, -1.36) vs. altruistic                         | --                 | --                      |\n",
        "| innocent (-0.65, -1.72, 0.61) vs. worldly (-0.58, 0.52, 1.78)       | + danger           | (0.08, **2.24**, 1.17)      |\n",
        "| complimentary (0.33, -1.36, 1.57) vs. insulting (-0.47, 2.40, 0.54) | + danger           | (-0.81, **3.76**, -1.03)    |\n",
        "| rude (-0.62, 2.45, 0.34) vs. respectful (1.82, -1.80, -0.65)        | - danger           | (2.45, **-4.25**, -0.98)    |\n",
        "| spicy (0.74, 0.96, 0.23) vs. mild (-1.30, -1.46, 0.99)              | - danger           | (-2.04, **-2.42**, 0.75)    |\n",
        "| poisonous (0.01, 2.50, -0.12) vs. nurturing                         | --                 | --                      |\n",
        "| hard (0.39, 1.34, -0.63) vs. soft (-1.00, -1.93, 1.38)              | - danger           | (-1.39, **-3.27**, 2.01)    |"
      ],
      "metadata": {
        "id": "xeMDozGzyKG5"
      }
    },
    {
      "cell_type": "markdown",
      "source": [
        "| Traits and normalized PDS scores                                   | Relabeled traits   | Changes in PDS scores   |\n",
        "|:-------------------------------------------------------------------|:-------------------|:------------------------|\n",
        "| open to new experiences vs. uncreative                             | --                 | --                      |\n",
        "| adventurous (2.68, -0.25, 2.97) vs. stick-in-the-mud               | --                 | --                      |\n",
        "| funny (1.41, -1.03, 2.21) vs. humorless                            | --                 | --                      |\n",
        "| scheduled vs. spontaneous (1.32, -0.65, 0.72)                      | --                 | --                      |\n",
        "| soulless (-0.99, 1.51, -0.63) vs. soulful (0.21, -1.38, 0.31)      | - danger           | (1.20, **-2.89**, 0.93)     |\n",
        "| serious (0.30, -0.12, -1.10) vs. bold (-0.58, -0.69, -1.21)        | - power            | (**-0.88**, -0.58, -0.12)   |\n",
        "| playful (1.18, -0.71, 3.25) vs. serious (0.30, -0.12, -1.10)       | - structure        | (-0.89, 0.60, **-4.35**)    |\n",
        "| charismatic (2.56, -0.80, 0.72) vs. uninspiring                    | --                 | --                      |\n",
        "| stoic (0.11, 0.18, -1.23) vs. expressive (1.69, -0.10, 1.20)       | + structure        | (1.57, -0.28, **2.44**)     |\n",
        "| liberal (1.14, 0.04, -1.12) vs. conservative (0.82, -0.91, -2.51)  | - structure        | (-0.32, -0.95, **-1.39**)   |\n",
        "| strict (1.57, 0.54, -1.86) vs. lenient (-0.59, -0.25, 0.96)        | + structure        | (-2.17, -0.79, **2.82**)    |\n",
        "| cruel (-0.42, 2.39, 0.97) vs. kind (0.78, -2.19, -0.24)            | - danger           | (1.20, **-4.58**, -1.21)    |\n",
        "| open-minded vs. close-minded                                       | --                 | --                      |\n",
        "| creative (1.95, -1.27, 0.11) vs. conventional (0.20, -0.94, -1.66) | - structure        | (-1.74, 0.33, **-1.77**)    |\n",
        "| warm (0.46, -1.44, -0.38) vs. cold (-0.65, 0.43, 0.79)             | + danger           | (-1.12, **1.87**, 1.17)     |\n",
        "| playful (1.18, -0.71, 3.25) vs. shy (-2.49, -0.44, -0.42)          | - structure        | (-3.67, 0.28, **-3.67**)    |\n",
        "| beautiful (1.60, -0.85, 1.44) vs. ugly (-1.29, 1.47, 0.84)         | - power            | (**-2.89**, 2.32, -0.60)    |\n",
        "| angry (0.20, 2.32, -0.75) vs. good-humored                         | --                 | --                      |\n",
        "| formal (0.40, -1.55, -1.13) vs. intimate (0.37, -0.45, 2.42)       | + structure        | (-0.03, 1.09, **3.55**)     |\n",
        "| racist (-0.68, 2.00, -1.06) vs. egalitarian                        | --                 | --                      |\n",
        "| multicolored vs. monochrome (-1.42, -0.06, -0.95)                  | --                 | --                      |\n",
        "| chatty (-0.20, -0.19, 1.83) vs. reserved (0.09, -0.88, -1.16)      | - structure        | (0.28, -0.69, **-2.99**)    |\n",
        "| trash (-1.83, 1.18, 1.03) vs. treasure (2.24, -1.06, 0.34)         | + power            | (**4.07**, -2.24, -0.68)    |\n",
        "| spontaneous (1.32, -0.65, 0.72) vs. deliberate (1.06, 0.35, -0.17) | + danger           | (-0.27, **1.01**, -0.89)    |\n",
        "| attractive (2.10, -0.88, 0.82) vs. repulsive (-0.46, 2.03, 0.33)   | + danger           | (-2.56, **2.91**, -0.49)    |"
      ],
      "metadata": {
        "id": "B2dgoAwV-8Hy"
      }
    },
    {
      "cell_type": "markdown",
      "source": [
        "# BIG 5 data\n",
        "\n",
        "Downloaded from openpsychometrics.org\n",
        "\n"
      ],
      "metadata": {
        "id": "O0C747wyJyvU"
      }
    },
    {
      "cell_type": "code",
      "source": [
        "big5_df = pd.read_csv(\"data.csv\", sep=\"\\t\")"
      ],
      "metadata": {
        "id": "dg0YM_Z3KApB"
      },
      "execution_count": null,
      "outputs": []
    },
    {
      "cell_type": "code",
      "source": [
        "labels_map = {\"E1\":\t\"I am the life of the party.\",\n",
        "\"E2\":\t\"I don't talk a lot.\",\n",
        "\"E3\":\t\"I feel comfortable around people.\",\n",
        "\"E4\":\t\"I keep in the background.\",\n",
        "\"E5\":\t\"I start conversations.\",\n",
        "\"E6\":\t\"I have little to say.\",\n",
        "\"E7\":\t\"I talk to a lot of different people at parties.\",\n",
        "\"E8\":\t\"I don't like to draw attention to myself.\",\n",
        "\"E9\":\t\"I don't mind being the center of attention.\",\n",
        "\"E10\":\t\"I am quiet around strangers.\",\n",
        "\"N1\":\t\"I get stressed out easily.\",\n",
        "\"N2\":\t\"I am relaxed most of the time.\",\n",
        "\"N3\":\t\"I worry about things.\",\n",
        "\"N4\":\t\"I seldom feel blue.\",\n",
        "\"N5\":\t\"I am easily disturbed.\",\n",
        "\"N6\":\t\"I get upset easily.\",\n",
        "\"N7\":\t\"I change my mood a lot.\",\n",
        "\"N8\":\t\"I have frequent mood swings.\",\n",
        "\"N9\":\t\"I get irritated easily.\",\n",
        "\"N10\":\t\"I often feel blue.\",\n",
        "\"A1\":\t\"I feel little concern for others.\",\n",
        "\"A2\":\t\"I am interested in people.\",\n",
        "\"A3\":\t\"I insult people.\",\n",
        "\"A4\":\t\"I sympathize with others' feelings.\",\n",
        "\"A5\":\t\"I am not interested in other people's problems.\",\n",
        "\"A6\":\t\"I have a soft heart.\",\n",
        "\"A7\":\t\"I am not really interested in others.\",\n",
        "\"A8\":\t\"I take time out for others.\",\n",
        "\"A9\":\t\"I feel others' emotions.\",\n",
        "\"A10\":\t\"I make people feel at ease.\",\n",
        "\"C1\":\t\"I am always prepared.\",\n",
        "\"C2\":\t\"I leave my belongings around.\",\n",
        "\"C3\":\t\"I pay attention to details.\",\n",
        "\"C4\":\t\"I make a mess of things.\",\n",
        "\"C5\":\t\"I get chores done right away.\",\n",
        "\"C6\":\t\"I often forget to put things back in their proper place.\",\n",
        "\"C7\":\t\"I like order.\",\n",
        "\"C8\":\t\"I shirk my duties.\",\n",
        "\"C9\":\t\"I follow a schedule.\",\n",
        "\"C10\":\t\"I am exacting in my work.\",\n",
        "\"O1\":\t\"I have a rich vocabulary.\",\n",
        "\"O2\":\t\"I have difficulty understanding abstract ideas.\",\n",
        "\"O3\":\t\"I have a vivid imagination.\",\n",
        "\"O4\":\t\"I am not interested in abstract ideas.\",\n",
        "\"O5\":\t\"I have excellent ideas.\",\n",
        "\"O6\":\t\"I do not have a good imagination.\",\n",
        "\"O7\":\t\"I am quick to understand things.\",\n",
        "\"O8\":\t\"I use difficult words.\",\n",
        "\"O9\":\t\"I spend time reflecting on things.\",\n",
        "\"O10\":\t\"I am full of ideas.\"}"
      ],
      "metadata": {
        "id": "dQjk0uakKN3w"
      },
      "execution_count": null,
      "outputs": []
    },
    {
      "cell_type": "code",
      "source": [
        "big5_df = big5_df.drop(['race', 'age', 'engnat', 'gender', 'hand', 'source', 'country'],axis=1)"
      ],
      "metadata": {
        "id": "PVCHRdjKPSmB"
      },
      "execution_count": null,
      "outputs": []
    },
    {
      "cell_type": "code",
      "source": [
        "big5_df_column_names = labels_map.values()\n",
        "big5_df_original_names = labels_map.keys()"
      ],
      "metadata": {
        "id": "EODPolzdPug5"
      },
      "execution_count": null,
      "outputs": []
    },
    {
      "cell_type": "code",
      "source": [
        "big5_df_normed = big5_df - 3"
      ],
      "metadata": {
        "id": "CRqJrYUSQHBg"
      },
      "execution_count": null,
      "outputs": []
    },
    {
      "cell_type": "code",
      "source": [
        "df_svd, U, D, V, Sig, X, remakeX = runSVD(big5_df_normed)"
      ],
      "metadata": {
        "id": "p4V8Dm-hP9Cv"
      },
      "execution_count": null,
      "outputs": []
    },
    {
      "cell_type": "markdown",
      "source": [
        "### Variance"
      ],
      "metadata": {
        "id": "pyK2DNPso7gp"
      }
    },
    {
      "cell_type": "code",
      "source": [
        "newD = [x**2 for x in D]\n",
        "sumD = sum(newD)\n",
        "varE = [x/sumD for x in newD]"
      ],
      "metadata": {
        "id": "pywffGDvaWUQ"
      },
      "execution_count": null,
      "outputs": []
    },
    {
      "cell_type": "code",
      "source": [
        "varE"
      ],
      "metadata": {
        "colab": {
          "base_uri": "https://localhost:8080/"
        },
        "id": "MVPohq17az6_",
        "outputId": "527bf4ea-abcf-490d-b1d8-7ef2ba4ee938"
      },
      "execution_count": null,
      "outputs": [
        {
          "output_type": "execute_result",
          "data": {
            "text/plain": [
              "[0.28772798848996695,\n",
              " 0.12034368941330233,\n",
              " 0.07682461504130429,\n",
              " 0.0528497095623324,\n",
              " 0.04372290311936156,\n",
              " 0.02539152373182758,\n",
              " 0.020651799025509322,\n",
              " 0.018012199617142524,\n",
              " 0.01606689772326278,\n",
              " 0.015076566079424775,\n",
              " 0.014370990875605612,\n",
              " 0.01376146743178014,\n",
              " 0.012912064066487823,\n",
              " 0.012540571711654893,\n",
              " 0.012358912481462342,\n",
              " 0.011210451894496992,\n",
              " 0.010870278868398036,\n",
              " 0.010612078425478254,\n",
              " 0.010071289828809178,\n",
              " 0.009866229315250798,\n",
              " 0.009664757780712517,\n",
              " 0.009358450238985927,\n",
              " 0.008992499152649026,\n",
              " 0.008874258927066147,\n",
              " 0.008692855118923157,\n",
              " 0.008574180573667935,\n",
              " 0.00828150468751085,\n",
              " 0.008031916551245924,\n",
              " 0.007813133116021912,\n",
              " 0.007718649299756206,\n",
              " 0.007468788933939143,\n",
              " 0.00719152192373826,\n",
              " 0.0071819145676912215,\n",
              " 0.00709332810810959,\n",
              " 0.006963055040459108,\n",
              " 0.006902908680156585,\n",
              " 0.006826332276132667,\n",
              " 0.006618081514865226,\n",
              " 0.006425147759030341,\n",
              " 0.006253303958160813,\n",
              " 0.006222560954634427,\n",
              " 0.0060843983005371555,\n",
              " 0.005867811584317458,\n",
              " 0.005281513363571969,\n",
              " 0.005062932775511929,\n",
              " 0.004935089788487134,\n",
              " 0.004714464096872217,\n",
              " 0.004236933019410014,\n",
              " 0.004006776875757039,\n",
              " 0.0034187043292196752]"
            ]
          },
          "metadata": {},
          "execution_count": 15
        }
      ]
    },
    {
      "cell_type": "code",
      "source": [
        "vectordf, plotguy = vector_barchart(big5_df_column_names,V[2,:],10)"
      ],
      "metadata": {
        "colab": {
          "base_uri": "https://localhost:8080/",
          "height": 333
        },
        "id": "fSa9TGEDQsbG",
        "outputId": "c4bd5d2e-38bc-48c6-a368-0e5eddee910b"
      },
      "execution_count": null,
      "outputs": [
        {
          "output_type": "stream",
          "name": "stderr",
          "text": [
            "/usr/local/lib/python3.7/dist-packages/seaborn/_decorators.py:43: FutureWarning: Pass the following variables as keyword args: x, y. From version 0.12, the only valid positional argument will be `data`, and passing other arguments without an explicit keyword will result in an error or misinterpretation.\n",
            "  FutureWarning\n"
          ]
        },
        {
          "output_type": "display_data",
          "data": {
            "image/png": "[encoded data removed]",
            "text/plain": [
              "<Figure size 432x288 with 1 Axes>"
            ]
          },
          "metadata": {
            "needs_background": "light"
          }
        }
      ]
    },
    {
      "cell_type": "code",
      "source": [
        "big5_df.shape"
      ],
      "metadata": {
        "colab": {
          "base_uri": "https://localhost:8080/"
        },
        "id": "tY6gjli5SyRJ",
        "outputId": "34932a8f-5988-4074-8068-6d0ae0451431"
      },
      "execution_count": null,
      "outputs": [
        {
          "output_type": "execute_result",
          "data": {
            "text/plain": [
              "(19719, 50)"
            ]
          },
          "metadata": {},
          "execution_count": 35
        }
      ]
    },
    {
      "cell_type": "markdown",
      "source": [
        "# Other things"
      ],
      "metadata": {
        "id": "iEQVHJcIfR6K"
      }
    }
  ]
}